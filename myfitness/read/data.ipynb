{
 "cells": [
  {
   "cell_type": "code",
   "execution_count": 1,
   "metadata": {},
   "outputs": [],
   "source": [
    "class readdata:\n",
    "    def __init__(self, file, name):\n",
    "        self.file = file\n",
    "        self.name = name\n",
    "    \n",
    "    def data(self):\n",
    "        import pandas as pd\n",
    "        self.data = pd.read_csv(self.file)\n",
    "        return self.data\n",
    "    \n",
    "    def getname(self):\n",
    "        return self.name\n",
    "\n",
    "        "
   ]
  }
 ],
 "metadata": {
  "kernelspec": {
   "display_name": "Python 3",
   "language": "python",
   "name": "python3"
  },
  "language_info": {
   "codemirror_mode": {
    "name": "ipython",
    "version": 3
   },
   "file_extension": ".py",
   "mimetype": "text/x-python",
   "name": "python",
   "nbconvert_exporter": "python",
   "pygments_lexer": "ipython3",
   "version": "3.6.5"
  }
 },
 "nbformat": 4,
 "nbformat_minor": 2
}
