{
 "cells": [
  {
   "cell_type": "markdown",
   "metadata": {},
   "source": [
    "## Tests for summarytest functions\n",
    "\n",
    "The test below were written by Liza Wood."
   ]
  },
  {
   "cell_type": "code",
   "execution_count": null,
   "metadata": {},
   "outputs": [],
   "source": [
    "\"\"\" Using Pandas to import file to test `maxmin` and `table` modules in MyFitness.summary sub-package\n",
    "    Input: name (path, if needed) of \"Health Data.csv\" file\n",
    "    Output: Pandas DataFrame \"\"\"\n",
    "\n",
    "import pandas as pd\n",
    "\n",
    "health = pd.read_csv(\"Health Data.csv\")\n",
    "health.head()\n"
   ]
  },
  {
   "cell_type": "code",
   "execution_count": 1,
   "metadata": {},
   "outputs": [
    {
     "ename": "NameError",
     "evalue": "name 'health' is not defined",
     "output_type": "error",
     "traceback": [
      "\u001b[0;31m---------------------------------------------------------------------------\u001b[0m",
      "\u001b[0;31mNameError\u001b[0m                                 Traceback (most recent call last)",
      "\u001b[0;32m<ipython-input-1-3c4cb61aff38>\u001b[0m in \u001b[0;36m<module>\u001b[0;34m()\u001b[0m\n\u001b[1;32m      6\u001b[0m \u001b[0;32mfrom\u001b[0m \u001b[0mmyfitness\u001b[0m\u001b[0;34m.\u001b[0m\u001b[0msummary\u001b[0m \u001b[0;32mimport\u001b[0m \u001b[0mmaxmin\u001b[0m\u001b[0;34m\u001b[0m\u001b[0m\n\u001b[1;32m      7\u001b[0m \u001b[0;34m\u001b[0m\u001b[0m\n\u001b[0;32m----> 8\u001b[0;31m \u001b[0mmaxmin\u001b[0m\u001b[0;34m.\u001b[0m\u001b[0mgetMax\u001b[0m\u001b[0;34m(\u001b[0m\u001b[0mhealth\u001b[0m\u001b[0;34m)\u001b[0m\u001b[0;34m\u001b[0m\u001b[0m\n\u001b[0m",
      "\u001b[0;31mNameError\u001b[0m: name 'health' is not defined"
     ]
    }
   ],
   "source": [
    "\"\"\" Test for `getMax` function in `maxmin` module.\n",
    "    Input: DataFrame imported in the cell above.\n",
    "    Output: Values for the date when the maximum number of steps were achieved: \n",
    "            Start date, Finish date, Distance(mi), Steps (count)\"\"\"\n",
    "\n",
    "from myfitness.summary import maxmin\n",
    "\n",
    "maxmin.getMax(health)\n"
   ]
  },
  {
   "cell_type": "code",
   "execution_count": null,
   "metadata": {},
   "outputs": [],
   "source": [
    "\"\"\" Test for `getMin` function in `maxmin` module.\n",
    "    Input: DataFrame imported in the cell above.\n",
    "    Output: Values for the date when the minimum number of steps were achieved: \n",
    "            Start date, Finish date, Distance(mi), Steps (count)\"\"\"\n",
    "\n",
    "import maxmin\n",
    "\n",
    "maxmin.getMin(health)"
   ]
  },
  {
   "cell_type": "code",
   "execution_count": null,
   "metadata": {},
   "outputs": [],
   "source": [
    "\"\"\" Test for `summary_data` function in `table` module.\n",
    "    Input: DataFrame imported in the cell above.\n",
    "    Output: A Pandas dataframe, summarizing the average number of steps taken by month, \n",
    "            indicated by the last date of the month.\"\"\"\n",
    "\n",
    "import table\n",
    "\n",
    "table.summary_data(health)"
   ]
  }
 ],
 "metadata": {
  "kernelspec": {
   "display_name": "Python 3",
   "language": "python",
   "name": "python3"
  },
  "language_info": {
   "codemirror_mode": {
    "name": "ipython",
    "version": 3
   },
   "file_extension": ".py",
   "mimetype": "text/x-python",
   "name": "python",
   "nbconvert_exporter": "python",
   "pygments_lexer": "ipython3",
   "version": "3.6.5"
  }
 },
 "nbformat": 4,
 "nbformat_minor": 2
}
