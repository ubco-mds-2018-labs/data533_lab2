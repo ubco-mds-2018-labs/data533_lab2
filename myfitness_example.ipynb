{
 "cells": [
  {
   "cell_type": "markdown",
   "metadata": {},
   "source": [
    "## Example use of `myfitness` package\n",
    "\n",
    "Python test file demonstrating how the `myfitness` package works"
   ]
  },
  {
   "cell_type": "markdown",
   "metadata": {},
   "source": [
    "#### Create health data record\n",
    "\n",
    "Create a health data record for one or more people and import health data file, using the `data` module:"
   ]
  },
  {
   "cell_type": "code",
   "execution_count": 5,
   "metadata": {},
   "outputs": [
    {
     "name": "stdout",
     "output_type": "stream",
     "text": [
      "Name: Liza, Age: 44, Gender: F\n",
      "Name: Liza, Age: 44, Gender: F\n"
     ]
    },
    {
     "data": {
      "text/html": [
       "<div>\n",
       "<style scoped>\n",
       "    .dataframe tbody tr th:only-of-type {\n",
       "        vertical-align: middle;\n",
       "    }\n",
       "\n",
       "    .dataframe tbody tr th {\n",
       "        vertical-align: top;\n",
       "    }\n",
       "\n",
       "    .dataframe thead th {\n",
       "        text-align: right;\n",
       "    }\n",
       "</style>\n",
       "<table border=\"1\" class=\"dataframe\">\n",
       "  <thead>\n",
       "    <tr style=\"text-align: right;\">\n",
       "      <th></th>\n",
       "      <th>Start</th>\n",
       "      <th>Finish</th>\n",
       "      <th>Distance (mi)</th>\n",
       "      <th>Steps (count)</th>\n",
       "    </tr>\n",
       "  </thead>\n",
       "  <tbody>\n",
       "    <tr>\n",
       "      <th>0</th>\n",
       "      <td>12-Feb-2017 00:00</td>\n",
       "      <td>13-Feb-2017 00:00</td>\n",
       "      <td>0.559483</td>\n",
       "      <td>1180.0</td>\n",
       "    </tr>\n",
       "    <tr>\n",
       "      <th>1</th>\n",
       "      <td>13-Feb-2017 00:00</td>\n",
       "      <td>14-Feb-2017 00:00</td>\n",
       "      <td>2.591677</td>\n",
       "      <td>5353.0</td>\n",
       "    </tr>\n",
       "    <tr>\n",
       "      <th>2</th>\n",
       "      <td>14-Feb-2017 00:00</td>\n",
       "      <td>15-Feb-2017 00:00</td>\n",
       "      <td>1.422008</td>\n",
       "      <td>3055.0</td>\n",
       "    </tr>\n",
       "    <tr>\n",
       "      <th>3</th>\n",
       "      <td>15-Feb-2017 00:00</td>\n",
       "      <td>16-Feb-2017 00:00</td>\n",
       "      <td>3.953369</td>\n",
       "      <td>7925.0</td>\n",
       "    </tr>\n",
       "    <tr>\n",
       "      <th>4</th>\n",
       "      <td>16-Feb-2017 00:00</td>\n",
       "      <td>17-Feb-2017 00:00</td>\n",
       "      <td>1.990246</td>\n",
       "      <td>4130.0</td>\n",
       "    </tr>\n",
       "  </tbody>\n",
       "</table>\n",
       "</div>"
      ],
      "text/plain": [
       "               Start             Finish  Distance (mi)  Steps (count)\n",
       "0  12-Feb-2017 00:00  13-Feb-2017 00:00       0.559483         1180.0\n",
       "1  13-Feb-2017 00:00  14-Feb-2017 00:00       2.591677         5353.0\n",
       "2  14-Feb-2017 00:00  15-Feb-2017 00:00       1.422008         3055.0\n",
       "3  15-Feb-2017 00:00  16-Feb-2017 00:00       3.953369         7925.0\n",
       "4  16-Feb-2017 00:00  17-Feb-2017 00:00       1.990246         4130.0"
      ]
     },
     "execution_count": 5,
     "metadata": {},
     "output_type": "execute_result"
    }
   ],
   "source": [
    "from myfitness.healthdata import data\n",
    "\n",
    "# Create record\n",
    "p1 = data.healthdata(\"Liza\", \"44\", \"F\", \"Health Data.csv\")\n",
    "p2 = data.healthdata(\"Bob\", \"42\", \"M\", \"Health Data 2.csv\")\n",
    "p1.display()\n",
    "\n",
    "# Import data into a Pandas DataFrame\n",
    "p1data = p1.data()\n",
    "p1data.head()"
   ]
  },
  {
   "cell_type": "markdown",
   "metadata": {},
   "source": [
    "#### Charting\n",
    "\n",
    "You can create a barchart of any column, using the `chart` module"
   ]
  },
  {
   "cell_type": "code",
   "execution_count": 4,
   "metadata": {},
   "outputs": [
    {
     "name": "stdout",
     "output_type": "stream",
     "text": [
      "file:///var/folders/jb/ght0074d3n11s6s_4svlvgz40000gn/T/tmp__vlrt75.html\n"
     ]
    }
   ],
   "source": [
    "from myfitness.healthdata import chart\n",
    "\n",
    "# Define your values and labels\n",
    "xaxis = p1data[\"Start\"].tolist()\n",
    "yaxis = p1data[\"Distance (mi)\"].tolist()\n",
    "xlabel = \"Date\"\n",
    "ylabel = \"Miles Walked\"\n",
    "\n",
    "# Chart is rendered both in-browser and saved to file in your working directory\n",
    "chart.chart(xaxis,yaxis,xlabel,ylabel)"
   ]
  },
  {
   "cell_type": "markdown",
   "metadata": {},
   "source": [
    "#### Summary Statistics\n",
    "\n",
    "You can find the maximum and minimum number of steps and summarize the data into a table of monthly average steps, using the `summary` subpackage.\n",
    "\n",
    "The `maxmin` module in this package is used to find the days and distances for the maximum and minimum number of steps.\n",
    "\n",
    "To find the day with the maximum number of steps, and total distance:"
   ]
  },
  {
   "cell_type": "code",
   "execution_count": 6,
   "metadata": {},
   "outputs": [
    {
     "data": {
      "text/plain": [
       "Start            17-Jun-2018 00:00\n",
       "Finish           18-Jun-2018 00:00\n",
       "Distance (mi)              10.0999\n",
       "Steps (count)                21898\n",
       "Name: 490, dtype: object"
      ]
     },
     "execution_count": 6,
     "metadata": {},
     "output_type": "execute_result"
    }
   ],
   "source": [
    "from myfitness.summary import maxmin\n",
    "\n",
    "maxmin.getMax(p1data)"
   ]
  },
  {
   "cell_type": "markdown",
   "metadata": {},
   "source": [
    "To find the day with the minimum number of steps, and total distance:"
   ]
  },
  {
   "cell_type": "code",
   "execution_count": 7,
   "metadata": {},
   "outputs": [
    {
     "data": {
      "text/plain": [
       "Start            17-Jun-2018 00:00\n",
       "Finish           18-Jun-2018 00:00\n",
       "Distance (mi)              10.0999\n",
       "Steps (count)                21898\n",
       "Name: 490, dtype: object"
      ]
     },
     "execution_count": 7,
     "metadata": {},
     "output_type": "execute_result"
    }
   ],
   "source": [
    "maxmin.getMax(p1data)"
   ]
  },
  {
   "cell_type": "markdown",
   "metadata": {},
   "source": [
    "Use the `table` module to create the summary table of monthly average steps:"
   ]
  },
  {
   "cell_type": "code",
   "execution_count": 8,
   "metadata": {},
   "outputs": [
    {
     "data": {
      "text/html": [
       "<div>\n",
       "<style scoped>\n",
       "    .dataframe tbody tr th:only-of-type {\n",
       "        vertical-align: middle;\n",
       "    }\n",
       "\n",
       "    .dataframe tbody tr th {\n",
       "        vertical-align: top;\n",
       "    }\n",
       "\n",
       "    .dataframe thead th {\n",
       "        text-align: right;\n",
       "    }\n",
       "</style>\n",
       "<table border=\"1\" class=\"dataframe\">\n",
       "  <thead>\n",
       "    <tr style=\"text-align: right;\">\n",
       "      <th></th>\n",
       "      <th>steps</th>\n",
       "    </tr>\n",
       "    <tr>\n",
       "      <th>date</th>\n",
       "      <th></th>\n",
       "    </tr>\n",
       "  </thead>\n",
       "  <tbody>\n",
       "    <tr>\n",
       "      <th>2017-02-28</th>\n",
       "      <td>5526.352941</td>\n",
       "    </tr>\n",
       "    <tr>\n",
       "      <th>2017-03-31</th>\n",
       "      <td>3804.387097</td>\n",
       "    </tr>\n",
       "    <tr>\n",
       "      <th>2017-04-30</th>\n",
       "      <td>4386.300000</td>\n",
       "    </tr>\n",
       "    <tr>\n",
       "      <th>2017-05-31</th>\n",
       "      <td>4125.516129</td>\n",
       "    </tr>\n",
       "    <tr>\n",
       "      <th>2017-06-30</th>\n",
       "      <td>7099.666667</td>\n",
       "    </tr>\n",
       "    <tr>\n",
       "      <th>2017-07-31</th>\n",
       "      <td>3904.516129</td>\n",
       "    </tr>\n",
       "    <tr>\n",
       "      <th>2017-08-31</th>\n",
       "      <td>3936.096774</td>\n",
       "    </tr>\n",
       "    <tr>\n",
       "      <th>2017-09-30</th>\n",
       "      <td>6560.033333</td>\n",
       "    </tr>\n",
       "    <tr>\n",
       "      <th>2017-10-31</th>\n",
       "      <td>4244.161290</td>\n",
       "    </tr>\n",
       "    <tr>\n",
       "      <th>2017-11-30</th>\n",
       "      <td>4133.733333</td>\n",
       "    </tr>\n",
       "    <tr>\n",
       "      <th>2017-12-31</th>\n",
       "      <td>3404.806452</td>\n",
       "    </tr>\n",
       "    <tr>\n",
       "      <th>2018-01-31</th>\n",
       "      <td>4326.935484</td>\n",
       "    </tr>\n",
       "    <tr>\n",
       "      <th>2018-02-28</th>\n",
       "      <td>4205.892857</td>\n",
       "    </tr>\n",
       "    <tr>\n",
       "      <th>2018-03-31</th>\n",
       "      <td>4097.096774</td>\n",
       "    </tr>\n",
       "    <tr>\n",
       "      <th>2018-04-30</th>\n",
       "      <td>4952.866667</td>\n",
       "    </tr>\n",
       "    <tr>\n",
       "      <th>2018-05-31</th>\n",
       "      <td>5068.580645</td>\n",
       "    </tr>\n",
       "    <tr>\n",
       "      <th>2018-06-30</th>\n",
       "      <td>8862.733333</td>\n",
       "    </tr>\n",
       "    <tr>\n",
       "      <th>2018-07-31</th>\n",
       "      <td>5380.387097</td>\n",
       "    </tr>\n",
       "    <tr>\n",
       "      <th>2018-08-31</th>\n",
       "      <td>3774.967742</td>\n",
       "    </tr>\n",
       "    <tr>\n",
       "      <th>2018-09-30</th>\n",
       "      <td>4804.000000</td>\n",
       "    </tr>\n",
       "    <tr>\n",
       "      <th>2018-10-31</th>\n",
       "      <td>4871.025866</td>\n",
       "    </tr>\n",
       "    <tr>\n",
       "      <th>2018-11-30</th>\n",
       "      <td>4604.152294</td>\n",
       "    </tr>\n",
       "  </tbody>\n",
       "</table>\n",
       "</div>"
      ],
      "text/plain": [
       "                  steps\n",
       "date                   \n",
       "2017-02-28  5526.352941\n",
       "2017-03-31  3804.387097\n",
       "2017-04-30  4386.300000\n",
       "2017-05-31  4125.516129\n",
       "2017-06-30  7099.666667\n",
       "2017-07-31  3904.516129\n",
       "2017-08-31  3936.096774\n",
       "2017-09-30  6560.033333\n",
       "2017-10-31  4244.161290\n",
       "2017-11-30  4133.733333\n",
       "2017-12-31  3404.806452\n",
       "2018-01-31  4326.935484\n",
       "2018-02-28  4205.892857\n",
       "2018-03-31  4097.096774\n",
       "2018-04-30  4952.866667\n",
       "2018-05-31  5068.580645\n",
       "2018-06-30  8862.733333\n",
       "2018-07-31  5380.387097\n",
       "2018-08-31  3774.967742\n",
       "2018-09-30  4804.000000\n",
       "2018-10-31  4871.025866\n",
       "2018-11-30  4604.152294"
      ]
     },
     "execution_count": 8,
     "metadata": {},
     "output_type": "execute_result"
    }
   ],
   "source": [
    "from myfitness.summary import table\n",
    "\n",
    "table.summary_data(p1data)"
   ]
  }
 ],
 "metadata": {
  "kernelspec": {
   "display_name": "Python 3",
   "language": "python",
   "name": "python3"
  },
  "language_info": {
   "codemirror_mode": {
    "name": "ipython",
    "version": 3
   },
   "file_extension": ".py",
   "mimetype": "text/x-python",
   "name": "python",
   "nbconvert_exporter": "python",
   "pygments_lexer": "ipython3",
   "version": "3.6.5"
  }
 },
 "nbformat": 4,
 "nbformat_minor": 2
}
